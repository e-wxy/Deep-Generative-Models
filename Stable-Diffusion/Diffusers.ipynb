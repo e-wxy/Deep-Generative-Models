{
 "cells": [
  {
   "cell_type": "markdown",
   "metadata": {},
   "source": [
    "# Diffusers\n",
    "\n",
    "Reference:\n",
    "\n",
    "- [diffusers](https://github.com/huggingface/diffusers)"
   ]
  },
  {
   "cell_type": "code",
   "execution_count": null,
   "metadata": {},
   "outputs": [],
   "source": [
    "from diffusers import DiffusionPipeline\n",
    "import torch\n",
    "\n",
    "pipeline = DiffusionPipeline.from_pretrained(\"stable-diffusion-v1-5/stable-diffusion-v1-5\", torch_dtype=torch.float16)\n",
    "pipeline.to(\"mps\")"
   ]
  },
  {
   "cell_type": "markdown",
   "metadata": {},
   "source": [
    "### SDXL"
   ]
  },
  {
   "cell_type": "code",
   "execution_count": null,
   "metadata": {},
   "outputs": [],
   "source": [
    "import torch\n",
    "from diffusers import AutoPipelineForImage2Image\n",
    "from diffusers.utils import make_image_grid, load_image\n",
    "\n",
    "pipeline = AutoPipelineForImage2Image.from_pretrained(\n",
    "    \"stabilityai/stable-diffusion-xl-refiner-1.0\", torch_dtype=torch.float16, variant=\"fp16\", use_safetensors=True\n",
    ").to(\"mps\")\n",
    "\n",
    "# For lower RAM\n",
    "pipeline.enable_attention_slicing()\n",
    "pipeline.unet.half()\n",
    "pipeline.vae.half()"
   ]
  },
  {
   "cell_type": "code",
   "execution_count": null,
   "metadata": {},
   "outputs": [],
   "source": [
    "torch.mps.empty_cache()\n",
    "\n",
    "# prepare image\n",
    "img_path = \"../NST/Content.jpg\"\n",
    "init_image = load_image(img_path).resize((1152, 1792))\n",
    "\n",
    "prompt = \"A painting of mountain in Monet's style, muted colors, Impressionistic strokes, detailed, 8k\"\n",
    "\n",
    "image = pipeline(prompt, image=init_image, strength=0.5, num_inference_steps=20, num_images_per_prompt=1).images[0]\n",
    "image.save(\"outputs/mountain.png\")\n",
    "make_image_grid([init_image, image], rows=1, cols=2)"
   ]
  },
  {
   "cell_type": "markdown",
   "metadata": {},
   "source": [
    "### SD 3.5"
   ]
  },
  {
   "cell_type": "code",
   "execution_count": null,
   "metadata": {},
   "outputs": [],
   "source": [
    "import torch\n",
    "from diffusers import StableDiffusion3Pipeline\n",
    "\n",
    "pipe = StableDiffusion3Pipeline.from_pretrained(\"stabilityai/stable-diffusion-3.5-medium\", torch_dtype=torch.float16).to(\"mps\")\n",
    "\n",
    "pipe.enable_attention_slicing()\n",
    "\n",
    "pipe"
   ]
  },
  {
   "cell_type": "code",
   "execution_count": null,
   "metadata": {},
   "outputs": [],
   "source": [
    "pipe.vae.half()\n",
    "pipe.transformer.half()\n",
    "\n",
    "torch.mps.empty_cache()\n",
    "\n",
    "image = pipe(\n",
    "    \"A capybara holding a sign that reads Hello World\",\n",
    "    height=512,\n",
    "    width=512,\n",
    "    num_inference_steps=20,\n",
    "    guidance_scale=4.5,\n",
    ").images[0]\n",
    "image.save(\"outputs/capybara.png\")\n"
   ]
  }
 ],
 "metadata": {
  "kernelspec": {
   "display_name": "diffuser",
   "language": "python",
   "name": "python3"
  },
  "language_info": {
   "codemirror_mode": {
    "name": "ipython",
    "version": 3
   },
   "file_extension": ".py",
   "mimetype": "text/x-python",
   "name": "python",
   "nbconvert_exporter": "python",
   "pygments_lexer": "ipython3",
   "version": "3.12.2"
  }
 },
 "nbformat": 4,
 "nbformat_minor": 2
}
